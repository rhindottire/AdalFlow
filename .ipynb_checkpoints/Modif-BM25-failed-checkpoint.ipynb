{
 "cells": [
  {
   "cell_type": "markdown",
   "id": "9ce13c33",
   "metadata": {},
   "source": [
    "# MEMBUAT MODIFIKASI CODE BM25\n",
    "\n",
    "**1. Modifikasi Dataset**\n",
    "- Memperluas dataset BM25 dengan koleksi baru.\n",
    "- Memastikan preprocessing (tokenisasi, stopword removal, stemming) kompatibel dengan kode AdalFlow.\n",
    "\n",
    "**2. Modifikasi Code**\n",
    "- Menelusuri kode BM25 (ranking, term frequency, inverse document frequency).\n",
    "    - Tuning parameter (k1, b)\n",
    "    - Penambahan fitur (n‑gram dan kata berimbuhan)\n",
    "\n",
    "**3. Modifikasi UI**\n",
    "- Menampilkan metrik perbandingan hasil sebelum dan sesudah modifikasi.\n",
    "- Sesuaikan interface notebook atau aplikasi kecil yang menampilkan hasil ranking:\n",
    "    - Judul, label, format tabel/histogram, atau output-to‑PDF.\n",
    "\n",
    "Credit: [SylphAI-Inc AdalFlow](https://github.com/SylphAI-Inc/AdalFlow) &\n",
    "Modifikasi source code: [ACHMAD RIDHO FA'IZ](https://github.com/rhindottire/AdalFlow)"
   ]
  },
  {
   "cell_type": "markdown",
   "id": "5e2c58b3",
   "metadata": {},
   "source": [
    "## AdalFlow formula\n",
    "\n",
    "$$\n",
    "\\mathrm{idf}(q_i)\n",
    "\\;=\\;\\log\\!\\Bigl(\\tfrac{N - n(q_i) + 0.5}{n(q_i) + 0.5}\\Bigr)\n",
    "$$\n",
    "\n",
    "$$\n",
    "\\mathrm{score}(Q, D)\n",
    "\\;=\\;\\sum_{i=1}^{n}\n",
    "   \\mathrm{idf}(q_i)\n",
    "   \\;\\times\\;\n",
    "   \\frac{f(q_i, D)\\,(k_1 + 1)}\n",
    "        {f(q_i, D)\n",
    "         \\;+\\;k_1\\Bigl(1 - b + b\\,\\tfrac{|D|}{\\mathrm{avgdl}}\\Bigr)}\n",
    "$$\n",
    "\n",
    "Source: [adalflow documentation](https://adalflow.sylph.ai/apis/components/components.retriever.bm25_retriever.html#module-components.retriever.bm25_retriever)\n",
    "\n",
    "- $N$              : Jumlah total dokumen dalam korpus\n",
    "- $n(q_i)$         : Jumlah dokumen yang memuat term $q_i$\n",
    "- $f(q_i,D)$       : Frekuensi kemunculan term $q_i$ dalam dokumen $D$\n",
    "- $|D|$            : Panjang dokumen $D$ dalam jumlah kata/token\n",
    "- $\\mathrm{avgdl}$ : Rata‑rata panjang dokumen di seluruh korpus\n",
    "- $k_1$            : Parameter pengaturan *term frequency saturation* (biasanya $1.2 \\le k_1 \\le 2.0$)\n",
    "- $b$              : Parameter normalisasi panjang dokumen (biasanya $0.5 \\le b \\le 0.8$)\n",
    "- $\\mathrm{top\\_k}$: (argumen `top_k`) Jumlah dokumen teratas yang akan dikembalikan\n",
    "- $\\varepsilon$    : (argumen `epsilon`) Untuk *lower‑bounding* negatif IDF, default 0.25"
   ]
  },
  {
   "cell_type": "markdown",
   "id": "ed21bbeb",
   "metadata": {},
   "source": [
    "## Smoke Test Import\n",
    "```python\n",
    "from adalflow.components.retriever import BM25Retriever\n",
    "print(BM25Retriever)\n",
    "\n",
    "# Output should be:\n",
    "<class 'adalflow.components.retriever.bm25_retriever.BM25Retriever'>\n",
    "```"
   ]
  },
  {
   "cell_type": "markdown",
   "id": "74dce707",
   "metadata": {},
   "source": [
    "## Data Collection\n",
    "\n",
    "- Old datasets: [20 Newsgroups](https://www.kaggle.com/datasets/crawford/20-newsgroups?resource=download)\n",
    "- New datasets: [Reuters Corpus Volume I (RCV1)](https://scikit-learn.org/stable/modules/generated/sklearn.datasets.fetch_rcv1.html)"
   ]
  },
  {
   "cell_type": "code",
   "execution_count": 79,
   "id": "a3e5233f",
   "metadata": {},
   "outputs": [],
   "source": [
    "import os\n",
    "from sklearn.datasets import fetch_rcv1\n",
    "\n",
    "data_home = 'data/rcv1'\n",
    "cache_dir = os.path.join(data_home, 'RCV1')\n",
    "try:\n",
    "  if 'rcv1' not in globals():\n",
    "    rcv1 = fetch_rcv1(data_home=data_home, download_if_missing=not os.path.isdir(cache_dir))\n",
    "except IOError:\n",
    "  raise RuntimeError(\"Data RCV1 belum diunduh, run: `download_if_missing=True`.\")"
   ]
  },
  {
   "cell_type": "markdown",
   "id": "29628c89",
   "metadata": {},
   "source": [
    "## Summary Code\n",
    "\n",
    "- Memastikan dataset RCV1 hanya diunduh sekali dan selanjutnya dimuat dari cache lokal.\n",
    "- Menentukan lokasi cache, lalu mencoba `fetch_rcv1` hanya jika variabel `rcv1` belum ada di session.\n",
    "- Jika data belum pernah diunduh sama sekali, kode akan melakukan download.\n",
    "- Sebaliknya memuat dari disk tanpa mengunduh ulang.\n",
    "- Jika tetap tidak ditemukan, ia akan melempar error yang menjelaskan langkah perbaikan.\n",
    "\n",
    "### Import libary\n",
    "```python\n",
    "import os\n",
    "from sklearn.datasets import fetch_rcv1\n",
    "```\n",
    "- `import os`: Modul standar Python untuk operasi file dan direktori.\n",
    "- `from sklearn.datasets import fetch_rcv1`:\n",
    "  - Mengimpor fungsi fetch_rcv1 dari scikit‑learn untuk mengunduh atau memuat dataset RCV1\n",
    "\n",
    "### Data file location\n",
    "```python\n",
    "data_home = 'data/rcv1'\n",
    "cache_dir = os.path.join(data_home, 'RCV1')\n",
    "```\n",
    "- `data_home`: Variabel string yang menyimpan path folder utama untuk cache dataset.\n",
    "- `cache_dir`: Menggabungkan data_home dan subfolder default RCV1."
   ]
  },
  {
   "cell_type": "markdown",
   "id": "ab7261ed",
   "metadata": {},
   "source": [
    "### Try-Exception blok code\n",
    "\n",
    "---\n",
    "```python\n",
    "try:\n",
    "  if 'rcv1' not in globals():\n",
    "    rcv1 = fetch_rcv1(data_home=data_home, download_if_missing=not os.path.isdir(cache_dir))\n",
    "```\n",
    "**1. `try`:** Memulai blok penanganan error untuk menangkap apabila dataset belum ada dan download dimatikan.\n",
    "\n",
    "**2. if 'rcv1' not in `globals()`:**\n",
    "  - Mengecek apakah variabel `rcv1` sudah ada dalam ruang lingkup global Python.\n",
    "  - Jika sudah pernah di‐load pada sesi ini, maka tidak perlu memanggil lagi.\n",
    "\n",
    "**3. `download_if_missing`=not os.path.isdir(cache_dir)**\n",
    "  - *os.path.isdir(cache_dir)* mengembalikan True jika folder cache ada.\n",
    "  - *not os.path.isdir(cache_dir)* akan True hanya jika cache belum ada.\n",
    "    - sehingga fetch_rcv1 akan mengunduh dataset.\n",
    "    - pada pemanggilan selanjutnya (setelah cache terbentuk), nilai ini akan False.\n",
    "    - dan fetch_rcv1 hanya memuat dari disk.\n",
    "\n",
    "**4. rcv1 = `fetch_rcv1(...)`** Memanggil fungsi untuk mengunduh atau memuat dataset.\n",
    "\n",
    "---\n",
    "\n",
    "```python\n",
    "except IOError:\n",
    "  raise RuntimeError(\"Data RCV1 belum diunduh, run: `download_if_missing=True`.\")\n",
    "```\n",
    "\n",
    "- `except IOError`:\n",
    "Menangkap kesalahan I/O\n",
    "- `raise RuntimeError(...)`\n",
    "Menghentikan eksekusi dengan pesan yang jelas: memberitahu pengguna untuk menjalankan ulang sel dengan opsi download_if_missing=True agar data dapat diunduh.\n"
   ]
  },
  {
   "cell_type": "code",
   "execution_count": 80,
   "id": "03851e0a",
   "metadata": {},
   "outputs": [
    {
     "name": "stdout",
     "output_type": "stream",
     "text": [
      "Keys: dict_keys(['data', 'target', 'sample_id', 'target_names', 'DESCR'])\n"
     ]
    }
   ],
   "source": [
    "print(\"Keys:\", rcv1.keys())"
   ]
  },
  {
   "cell_type": "code",
   "execution_count": 81,
   "id": "4bc778e1",
   "metadata": {},
   "outputs": [
    {
     "name": "stdout",
     "output_type": "stream",
     "text": [
      "Shape of data: (804414, 47236)\n",
      "Shape of target: (804414, 103)\n",
      "Sample IDs: [2286 2287 2288 2289 2290]\n",
      "Target names: ['C11' 'C12' 'C13' 'C14' 'C15' 'C151' 'C1511' 'C152' 'C16' 'C17']\n"
     ]
    }
   ],
   "source": [
    "print(\"Shape of data:\", rcv1.data.shape)         # dokumen x fitur\n",
    "print(\"Shape of target:\", rcv1.target.shape)     # dokumen x label\n",
    "\n",
    "# Sample ID\n",
    "print(\"Sample IDs:\", rcv1.sample_id[:5])\n",
    "\n",
    "# Nama-nama target (label)\n",
    "print(\"Target names:\", rcv1.target_names[:10])"
   ]
  },
  {
   "cell_type": "code",
   "execution_count": 82,
   "id": "af057b00",
   "metadata": {},
   "outputs": [
    {
     "name": "stdout",
     "output_type": "stream",
     "text": [
      "Fitur dari dokumen pertama:\n",
      " [[0. 0. 0. ... 0. 0. 0.]]\n"
     ]
    }
   ],
   "source": [
    "# Convert sparse matrix ke array (jika perlu, misalnya hanya untuk beberapa baris)\n",
    "example = rcv1.data[0].toarray()\n",
    "\n",
    "print(\"Fitur dari dokumen pertama:\\n\", example)"
   ]
  },
  {
   "cell_type": "code",
   "execution_count": 83,
   "id": "69fd454d",
   "metadata": {},
   "outputs": [
    {
     "name": "stdout",
     "output_type": "stream",
     "text": [
      "Stopword is ready to use!\n"
     ]
    }
   ],
   "source": [
    "import os\n",
    "import nltk\n",
    "\n",
    "nltk_data_dir = nltk.data.find('corpora/stopwords')\n",
    "if not os.path.isdir(nltk_data_dir):\n",
    "  print(\"Install stopwords...\")\n",
    "  nltk.download('stopwords')\n",
    "else:\n",
    "  print(\"Stopword is ready to use!\")"
   ]
  },
  {
   "cell_type": "markdown",
   "id": "56265d42",
   "metadata": {},
   "source": [
    "## Integrasi ke dalam AdalFlow BM25Retriever"
   ]
  },
  {
   "cell_type": "code",
   "execution_count": 84,
   "id": "dedca002",
   "metadata": {},
   "outputs": [
    {
     "name": "stdout",
     "output_type": "stream",
     "text": [
      "Versi AdalFlow: 1.0.4\n"
     ]
    }
   ],
   "source": [
    "import adalflow\n",
    "print(\"Versi AdalFlow:\", adalflow.__version__)"
   ]
  }
 ],
 "metadata": {
  "kernelspec": {
   "display_name": ".venv",
   "language": "python",
   "name": "python3"
  },
  "language_info": {
   "codemirror_mode": {
    "name": "ipython",
    "version": 3
   },
   "file_extension": ".py",
   "mimetype": "text/x-python",
   "name": "python",
   "nbconvert_exporter": "python",
   "pygments_lexer": "ipython3",
   "version": "3.12.6"
  }
 },
 "nbformat": 4,
 "nbformat_minor": 5
}

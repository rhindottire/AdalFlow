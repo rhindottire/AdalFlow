{
 "cells": [
  {
   "cell_type": "code",
   "execution_count": 1,
   "id": "93530d97",
   "metadata": {},
   "outputs": [
    {
     "name": "stdout",
     "output_type": "stream",
     "text": [
      "✅ Checkpoint dibuat: Modif-BM25-230411100197.ipynb\n"
     ]
    }
   ],
   "source": [
    "import shutil\n",
    "import os\n",
    "\n",
    "src = 'BM25_AdalFlow_Experiment.ipynb'\n",
    "dst = 'Modif-BM25-230411100197.ipynb'\n",
    "\n",
    "if os.path.exists(src):\n",
    "  shutil.copy(src, dst)\n",
    "  print(f\"✅ Checkpoint dibuat: {dst}\")\n",
    "else:\n",
    "  raise FileNotFoundError(f\"Notebook '{src}' tidak ditemukan.\")"
   ]
  }
 ],
 "metadata": {
  "kernelspec": {
   "display_name": ".venv",
   "language": "python",
   "name": "python3"
  },
  "language_info": {
   "codemirror_mode": {
    "name": "ipython",
    "version": 3
   },
   "file_extension": ".py",
   "mimetype": "text/x-python",
   "name": "python",
   "nbconvert_exporter": "python",
   "pygments_lexer": "ipython3",
   "version": "3.12.6"
  }
 },
 "nbformat": 4,
 "nbformat_minor": 5
}
